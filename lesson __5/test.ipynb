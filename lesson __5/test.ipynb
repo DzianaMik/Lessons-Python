{
 "cells": [
  {
   "cell_type": "code",
   "execution_count": 12,
   "id": "5d8d67e5",
   "metadata": {},
   "outputs": [],
   "source": [
    "name = []\n",
    "name.append(input(\"Ввести имя: \"))\n",
    "name.append(input(\"Ввести имя: \"))\n",
    "name.append(input(\"Ввести имя: \"))\n",
    "name.append(input(\"Ввести имя: \"))\n",
    "name.append(input(\"Ввести имя: \"))\n"
   ]
  },
  {
   "cell_type": "code",
   "execution_count": 13,
   "id": "af48f721",
   "metadata": {},
   "outputs": [
    {
     "name": "stdout",
     "output_type": "stream",
     "text": [
      "Список: ['h', 'hk', 'yi', 'sdfh', 'tulo']\n"
     ]
    }
   ],
   "source": [
    "print(\"Список:\", name)\n"
   ]
  },
  {
   "cell_type": "code",
   "execution_count": 14,
   "id": "4912cfaa",
   "metadata": {},
   "outputs": [],
   "source": [
    "name.sort()\n"
   ]
  },
  {
   "cell_type": "code",
   "execution_count": 15,
   "id": "c5b533f1",
   "metadata": {},
   "outputs": [
    {
     "name": "stdout",
     "output_type": "stream",
     "text": [
      "Отсортированный список: ['h', 'hk', 'sdfh', 'tulo', 'yi']\n"
     ]
    }
   ],
   "source": [
    "print(\"Отсортированный список:\", name)\n"
   ]
  },
  {
   "cell_type": "code",
   "execution_count": 17,
   "id": "a1bbe657",
   "metadata": {},
   "outputs": [
    {
     "name": "stdout",
     "output_type": "stream",
     "text": [
      "Есть ли в списке? False\n"
     ]
    }
   ],
   "source": [
    "print(\"Есть ли в списке?\", \"Вася\" in name)"
   ]
  }
 ],
 "metadata": {
  "kernelspec": {
   "display_name": "Python 3",
   "language": "python",
   "name": "python3"
  },
  "language_info": {
   "codemirror_mode": {
    "name": "ipython",
    "version": 3
   },
   "file_extension": ".py",
   "mimetype": "text/x-python",
   "name": "python",
   "nbconvert_exporter": "python",
   "pygments_lexer": "ipython3",
   "version": "3.13.3"
  }
 },
 "nbformat": 4,
 "nbformat_minor": 5
}
